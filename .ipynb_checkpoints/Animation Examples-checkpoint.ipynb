{
 "cells": [
  {
   "cell_type": "code",
   "execution_count": 8,
   "metadata": {},
   "outputs": [],
   "source": [
    "#Taken from youtube\n",
    "\n",
    "import numpy as np\n",
    "\n",
    "def rect(x, B):\n",
    "    B = int(B)\n",
    "    x = int(x)\n",
    "    \n",
    "    high = np.ones(B)\n",
    "    low1 = np.zeros(int(x/2 - 8/2))\n",
    "    x1 = np.append(low1, high)\n",
    "    rect = np.append(x1,low1)\n",
    "    \n",
    "    if x > len(rect):\n",
    "        rect = np.append(rect,0)\n",
    "    elif x < len(rect):\n",
    "        rect = rect[:-1]\n",
    "        \n",
    "    return rect\n"
   ]
  },
  {
   "cell_type": "code",
   "execution_count": null,
   "metadata": {},
   "outputs": [],
   "source": [
    "%matplotlib notebook\n",
    "import matplotlib.pyplot as plt\n",
    "from matplotlib.animation import FuncAnimation\n",
    "\n",
    "# constants and x array\n",
    "pi = np.pi\n",
    "length = 2000\n",
    "x = np.linspace(-1, 1, length)\n",
    "\n",
    "fig(ax1, ax2) = plt.subplots(2, figsize =[12, 6])\n"
   ]
  },
  {
   "cell_type": "code",
   "execution_count": null,
   "metadata": {},
   "outputs": [],
   "source": []
  }
 ],
 "metadata": {
  "kernelspec": {
   "display_name": "Python 3",
   "language": "python",
   "name": "python3"
  },
  "language_info": {
   "codemirror_mode": {
    "name": "ipython",
    "version": 3
   },
   "file_extension": ".py",
   "mimetype": "text/x-python",
   "name": "python",
   "nbconvert_exporter": "python",
   "pygments_lexer": "ipython3",
   "version": "3.7.3"
  }
 },
 "nbformat": 4,
 "nbformat_minor": 2
}
