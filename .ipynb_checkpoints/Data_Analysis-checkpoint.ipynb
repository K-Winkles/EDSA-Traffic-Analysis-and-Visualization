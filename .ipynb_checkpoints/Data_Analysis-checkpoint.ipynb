{
 "cells": [
  {
   "cell_type": "code",
   "execution_count": 1,
   "metadata": {},
   "outputs": [],
   "source": [
    "# Use this to analyze extracted data!\n",
    "%matplotlib notebook\n",
    "import pandas as pd\n",
    "import numpy as np\n",
    "import seaborn as sns\n",
    "from matplotlib import pyplot as plt\n",
    "\n",
    "def analyze(data, target_runs, bound):\n",
    "    %matplotlib inline \n",
    "    x = range(0,target_runs)\n",
    "    x = np.array(x)\n",
    "    data = np.array(data)\n",
    "    \n",
    "    p1 = np.polyfit(x,data,1) #order 1\n",
    "    p2 = np.polyfit(x,data,2) #order 2\n",
    "    p3 = np.polyfit(x,data,3) #order 3\n",
    "   \n",
    "    \n",
    "    #plot data and linear fit\n",
    "    plt.plot(x,data,'o')\n",
    "    plt.plot(x,np.polyval(p1,x),'r-')\n",
    "    plt.plot(x,np.polyval(p2,x),'g--')\n",
    "    plt.plot(x,np.polyval(p3,x),'y:') \n",
    "    plt.savefig(\"Polynomial regression of \"+ bound +\" traffic data.png\")\n",
    "    plt.show()\n",
    "    \n",
    "    print(\"Slope and intercepts in ascending orders \")\n",
    "    print(p1)\n",
    "    print(p2)\n",
    "    print(p3)"
   ]
  },
  {
   "cell_type": "code",
   "execution_count": null,
   "metadata": {},
   "outputs": [],
   "source": []
  }
 ],
 "metadata": {
  "kernelspec": {
   "display_name": "Python 3",
   "language": "python",
   "name": "python3"
  },
  "language_info": {
   "codemirror_mode": {
    "name": "ipython",
    "version": 3
   },
   "file_extension": ".py",
   "mimetype": "text/x-python",
   "name": "python",
   "nbconvert_exporter": "python",
   "pygments_lexer": "ipython3",
   "version": "3.7.3"
  }
 },
 "nbformat": 4,
 "nbformat_minor": 2
}
