{
 "cells": [
  {
   "cell_type": "code",
   "execution_count": null,
   "metadata": {},
   "outputs": [],
   "source": [
    "#Flow: Data extraction, visualization, and modelling\n",
    "\n",
    "#import libraries\n",
    "from urllib.request import urlopen\n",
    "from bs4 import BeautifulSoup\n",
    "\n",
    "#specify the url\n",
    "quote_page = 'http://mmdatraffic.interaksyon.com/line-view-edsa.php'\n",
    "\n",
    "# query the website and return the html to the variable ‘page’\n",
    "page = urlopen(quote_page)\n",
    "\n",
    "# parse the html \n",
    "soup = BeautifulSoup(page, 'html.parser')"
   ]
  },
  {
   "cell_type": "code",
   "execution_count": null,
   "metadata": {},
   "outputs": [],
   "source": [
    "#Data Extraction using Beautiful Soup\n",
    "\n",
    "#set time stamp.\n",
    "import time\n",
    "ts = time.time()\n",
    "import datetime\n",
    "timestamp = datetime.datetime.fromtimestamp(ts).strftime('%Y-%m-%d %H:%M:%S')\n",
    "print(\"TIMESTAMP: \"+ str(timestamp)+\"\\n\")\n",
    "stringdata = \"TIMESTAMP: \"+ str(timestamp)+\"\\n\"+\"\\n\"\n",
    "\n",
    "#extract name of lines\n",
    "list_of_names_html=soup.find_all('div',{'class':'line-name'})\n",
    "list_of_names = []\n",
    "\n",
    "for children in list_of_names_html:\n",
    "    grandchildren = children.findChild(\"p\")\n",
    "    temp = grandchildren.get_text(separator=' ')\n",
    "    temp = temp.split(' ')\n",
    "    list_of_names.append(temp[0]) #NOTE: fix string separation\n",
    "list_of_names.pop(0) \n",
    "\n",
    "#extract southbound/northbound volume\n",
    "list_of_volume_html=soup.find_all('div',{'class':'line-status'})\n",
    "list_of_southbound = []\n",
    "list_of_northbound = []\n",
    "\n",
    "i=1\n",
    "for children in list_of_volume_html:\n",
    "    temp = children.text\n",
    "    temp = temp.split()\n",
    "    \n",
    "    if(temp[1]==\"LIGHT\"):\n",
    "        temp[1]=0\n",
    "    elif(temp[1]==\"MODERATE\"):\n",
    "        temp[1]=1\n",
    "    elif(temp[1]==\"HEAVY\"):\n",
    "        temp[1]=2\n",
    "    \n",
    "    if(i%2 == 0):\n",
    "        list_of_northbound.append(temp[1])\n",
    "    else:\n",
    "        list_of_southbound.append(temp[1])\n",
    "\n",
    "    i=i+1\n",
    "\n",
    "#save data into one variable\n",
    "for i in range(len(list_of_names)):\n",
    "    stringdata = stringdata + '{:>12}  {:>12}  {:>12}'.format(list_of_names[i], str(list_of_southbound[i]), str(list_of_northbound[i])) + \"\\n\""
   ]
  },
  {
   "cell_type": "code",
   "execution_count": null,
   "metadata": {
    "scrolled": true
   },
   "outputs": [],
   "source": [
    "#Save raw data into text file\n",
    "filename = \"rawdata_\"+ str(timestamp)+\".csv\"\n",
    "file = open(filename,\"x\")\n",
    "\n",
    "#save all data into one string. \n",
    "file = open(filename,\"a\")\n",
    "file.write(stringdata)   \n",
    "file.close()"
   ]
  },
  {
   "cell_type": "code",
   "execution_count": null,
   "metadata": {},
   "outputs": [],
   "source": [
    "# Visualization using Matplotlib\n",
    "import pandas as pd\n",
    "import numpy as np\n",
    "from matplotlib import pyplot as plt\n",
    "\n",
    "#Visualize overall EDSA traffic at certain timestamp\n",
    "roadnum = range(0,len(list_of_names))\n",
    "plt.scatter(roadnum, list_of_southbound, label=\"SOUTHBOUND\", color=\"g\")\n",
    "plt.scatter(roadnum, list_of_northbound, label = \"NORTHBOUND\", color = \"m\")\n",
    "\n",
    "#plt.xticks(np.arange(min(x), max(x)+1, 1.0)) IDK HOW TO WORK THIS YET.\n",
    "#plt.yticks(np.arange(min(0), max(2)+1, 1.0))\n",
    "\n",
    "plt.xlabel(\"Road\")\n",
    "plt.ylabel(\"Volume\")\n",
    "\n",
    "plt.title(label=\"EDSA TRAFFIC: \"+timestamp)\n",
    "plt.legend(bbox_to_anchor=(0, 1), loc='lower center', ncol=1)\n",
    "plt.savefig(\"EDSA TRAFFIC: \"+timestamp+\".png\") #finally, save the figure\n",
    "plt.show()\n",
    "\n",
    "#Visualize specific road parameters (TIMESTAMP vs VOLUME) but OVERWRITE necessary files\n",
    "#for i in range(len(list_of_names)):\n",
    "\n",
    "#TESTING if repo works"
   ]
  },
  {
   "cell_type": "code",
   "execution_count": null,
   "metadata": {},
   "outputs": [],
   "source": []
  },
  {
   "cell_type": "code",
   "execution_count": null,
   "metadata": {},
   "outputs": [],
   "source": []
  }
 ],
 "metadata": {
  "kernelspec": {
   "display_name": "Python 3",
   "language": "python",
   "name": "python3"
  },
  "language_info": {
   "codemirror_mode": {
    "name": "ipython",
    "version": 3
   },
   "file_extension": ".py",
   "mimetype": "text/x-python",
   "name": "python",
   "nbconvert_exporter": "python",
   "pygments_lexer": "ipython3",
   "version": "3.7.3"
  }
 },
 "nbformat": 4,
 "nbformat_minor": 2
}
