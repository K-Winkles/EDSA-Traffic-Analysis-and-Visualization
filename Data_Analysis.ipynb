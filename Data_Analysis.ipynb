{
 "cells": [
  {
   "cell_type": "code",
   "execution_count": 1,
   "metadata": {},
   "outputs": [],
   "source": [
    "# Use this to analyze extracted data!\n",
    "%matplotlib notebook\n",
    "import pandas as pd\n",
    "import numpy as np\n",
    "import seaborn as sns\n",
    "from matplotlib import pyplot as plt\n",
    "\n",
    "# For Data parsing\n",
    "import os\n",
    "import re\n",
    "\n",
    "target_runs = 674"
   ]
  },
  {
   "cell_type": "code",
   "execution_count": 2,
   "metadata": {},
   "outputs": [],
   "source": [
    "# save all data in numpy arrays\n",
    "directory = \"/Users/kianavillaera/MMDA_Traffic_data/EDSA-Traffic-Analysis-and-Visualization/April29_to_May6\"\n",
    "j = 0 # file number \n",
    "\n",
    "list_of_southbound = np.zeros(24938).reshape(37,674) \n",
    "list_of_northbound = np.zeros(24938).reshape(37,674)\n",
    "\n",
    "for filename in os.listdir(directory):\n",
    "    if filename.endswith(\".csv\"):\n",
    "        f = open(filename)\n",
    "        f_list = f.readlines()\n",
    "        i = 0\n",
    "        for row in f_list:\n",
    "            if len(row) == 41:\n",
    "                vol = re.findall(\"\\d\",row)\n",
    "                list_of_southbound[i][j] = vol[0]\n",
    "                list_of_northbound[i][j] = vol[1]\n",
    "                i += 1       \n",
    "        j +=1        \n",
    "        f.close()        "
   ]
  },
  {
   "cell_type": "code",
   "execution_count": 3,
   "metadata": {},
   "outputs": [],
   "source": [
    "# Function for data analysis\n",
    "\n",
    "def analyze(data, target_runs, bound):\n",
    "    %matplotlib inline \n",
    "    x = range(0,target_runs)\n",
    "    x = np.array(x)\n",
    "    data = np.array(data)\n",
    "    \n",
    "    p1 = np.polyfit(x,data,1) #order 1\n",
    "    p2 = np.polyfit(x,data,2) #order 2\n",
    "    p3 = np.polyfit(x,data,3) #order 3\n",
    "    plt.style.use('seaborn-whitegrid')\n",
    "    \n",
    "    #plot data and linear fit\n",
    "    plt.plot(x,data,'o')\n",
    "    plt.plot(x,np.polyval(p1,x),'r-')\n",
    "    plt.plot(x,np.polyval(p2,x),'g--')\n",
    "    plt.plot(x,np.polyval(p3,x),'y:') \n",
    "    plt.savefig(\"Polynomial regression of \"+ bound +\" traffic data.png\")\n",
    "    plt.show()\n",
    "    \n",
    "    plt.xlabel(\"Road\")\n",
    "    plt.ylabel(\"Volume\")\n",
    "    \n",
    "   # print(\"Slope and intercepts in ascending orders \")\n",
    "    print(p1)\n",
    "    print(p2)\n",
    "    print(p3)"
   ]
  },
  {
   "cell_type": "code",
   "execution_count": 4,
   "metadata": {},
   "outputs": [
    {
     "data": {
      "image/png": "[encoded data removed]",
      "text/plain": [
       "<Figure size 432x288 with 1 Axes>"
      ]
     },
     "metadata": {},
     "output_type": "display_data"
    },
    {
     "name": "stdout",
     "output_type": "stream",
     "text": [
      "[-1.15186637e-04  7.59828553e-01]\n",
      "[ 5.74106992e-07 -5.01560642e-04  8.03102441e-01]\n",
      "[ 1.57652459e-09 -1.01739459e-06 -7.34464028e-05  7.79181536e-01]\n"
     ]
    },
    {
     "data": {
      "image/png": "[encoded data removed]",
      "text/plain": [
       "<Figure size 432x288 with 1 Axes>"
      ]
     },
     "metadata": {},
     "output_type": "display_data"
    }
   ],
   "source": [
    "# Loop through both arrays\n",
    "data = list_of_southbound[22]\n",
    "analyze(data, target_runs, \"South\")"
   ]
  },
  {
   "cell_type": "code",
   "execution_count": null,
   "metadata": {},
   "outputs": [],
   "source": []
  }
 ],
 "metadata": {
  "kernelspec": {
   "display_name": "Python 3",
   "language": "python",
   "name": "python3"
  },
  "language_info": {
   "codemirror_mode": {
    "name": "ipython",
    "version": 3
   },
   "file_extension": ".py",
   "mimetype": "text/x-python",
   "name": "python",
   "nbconvert_exporter": "python",
   "pygments_lexer": "ipython3",
   "version": "3.7.3"
  }
 },
 "nbformat": 4,
 "nbformat_minor": 2
}
