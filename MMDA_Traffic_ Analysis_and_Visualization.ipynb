{
 "cells": [
  {
   "cell_type": "code",
   "execution_count": 1,
   "metadata": {},
   "outputs": [],
   "source": [
    "#Flow: Data extraction, visualization, and modelling\n",
    "\n",
    "#import libraries\n",
    "from urllib.request import urlopen\n",
    "from bs4 import BeautifulSoup\n",
    "import schedule\n",
    "import time\n",
    "%matplotlib notebook\n",
    "import pandas as pd\n",
    "import numpy as np\n",
    "import seaborn as sns\n",
    "from matplotlib import pyplot as plt\n",
    "import matplotlib.animation as animation\n",
    "\n",
    "#specify the url\n",
    "quote_page = 'http://mmdatraffic.interaksyon.com/line-view-edsa.php'\n",
    "\n",
    "# query the website and return the html to the variable ‘page’\n",
    "page = urlopen(quote_page)\n",
    "\n",
    "# parse the html \n",
    "soup = BeautifulSoup(page, 'html.parser')"
   ]
  },
  {
   "cell_type": "code",
   "execution_count": 2,
   "metadata": {},
   "outputs": [
    {
     "name": "stdout",
     "output_type": "stream",
     "text": [
      "TIMESTAMP: 2019-04-25 16:34:29\n",
      "\n"
     ]
    }
   ],
   "source": [
    "#Data Extraction using Beautiful Soup\n",
    "\n",
    "#set time stamp.\n",
    "import time\n",
    "ts = time.time()\n",
    "import datetime\n",
    "timestamp = datetime.datetime.fromtimestamp(ts).strftime('%Y-%m-%d %H:%M:%S')\n",
    "print(\"TIMESTAMP: \"+ str(timestamp)+\"\\n\")\n",
    "stringdata = \"TIMESTAMP: \"+ str(timestamp)+\"\\n\"+\"\\n\"\n",
    "\n",
    "#extract name of lines\n",
    "list_of_names_html=soup.find_all('div',{'class':'line-name'})\n",
    "list_of_names = []\n",
    "\n",
    "for children in list_of_names_html:\n",
    "    grandchildren = children.findChild(\"p\")\n",
    "    temp = grandchildren.get_text(separator=' ')\n",
    "    temp = temp.split(' ')\n",
    "    list_of_names.append(temp[0]) #NOTE: fix string separation\n",
    "list_of_names.pop(0) \n",
    "\n",
    "#extract southbound/northbound volume\n",
    "list_of_volume_html=soup.find_all('div',{'class':'line-status'})\n",
    "list_of_southbound = []\n",
    "list_of_northbound = []\n",
    "\n",
    "i=1\n",
    "for children in list_of_volume_html:\n",
    "    temp = children.text\n",
    "    temp = temp.split()\n",
    "    \n",
    "    if(temp[1]==\"LIGHT\"):\n",
    "        temp[1]=0\n",
    "    elif(temp[1]==\"MODERATE\"):\n",
    "        temp[1]=1\n",
    "    elif(temp[1]==\"HEAVY\"):\n",
    "        temp[1]=2\n",
    "    \n",
    "    if(i%2 == 0):\n",
    "        list_of_northbound.append(temp[1])\n",
    "    else:\n",
    "        list_of_southbound.append(temp[1])\n",
    "\n",
    "    i=i+1\n",
    "\n",
    "#save data into one variable\n",
    "for i in range(len(list_of_names)):\n",
    "    stringdata = stringdata + '{:>12}  {:>12}  {:>12}'.format(list_of_names[i], str(list_of_southbound[i]), str(list_of_northbound[i])) + \"\\n\""
   ]
  },
  {
   "cell_type": "code",
   "execution_count": 3,
   "metadata": {
    "scrolled": true
   },
   "outputs": [],
   "source": [
    "#Save raw data into text file\n",
    "filename = \"rawdata_\"+ str(timestamp)+\".csv\"\n",
    "file = open(filename,\"x\")\n",
    "\n",
    "#save all data into one string. \n",
    "file = open(filename,\"a\")\n",
    "file.write(stringdata)   \n",
    "file.close()"
   ]
  },
  {
   "cell_type": "code",
   "execution_count": 8,
   "metadata": {},
   "outputs": [
    {
     "name": "stdout",
     "output_type": "stream",
     "text": [
      "TIMESTAMP: 2019-04-25 16:34:29\n",
      "\n",
      "  Balintawak             0             2\n",
      "     Kaingin             0             2\n",
      "      MuÃ±oz             0             0\n",
      " Bansalangin             1             0\n",
      "       North             0             0\n",
      "     Trinoma             0             0\n",
      "      Quezon             0             0\n",
      "         NIA             0             0\n",
      "       Timog             0             0\n",
      "    Kamuning             0             0\n",
      "         New             0             0\n",
      "       Monte             0             0\n",
      "      Aurora             0             0\n",
      "          Mc             0             0\n",
      "          P.             0             0\n",
      "        Main             0             0\n",
      "    Santolan             0             0\n",
      "       White             2             0\n",
      "     Ortigas             0             0\n",
      "          SM             2             2\n",
      "        Shaw             2             2\n",
      "    Reliance             2             2\n",
      "     Pioneer             2             2\n",
      "   Guadalupe             1             2\n",
      "      Orense             0             2\n",
      "    Kalayaan             1             2\n",
      "     Buendia             1             2\n",
      "       Ayala             0             2\n",
      "      Arnaiz             0             0\n",
      "  Magallanes             2             0\n",
      "     Malibay             2             0\n",
      "       Tramo             2             0\n",
      "        Taft             2             2\n",
      "        F.B.             0             0\n",
      "       Roxas             1             2\n",
      "   Macapagal             1             2\n",
      "        Mall             0             0\n",
      "\n",
      "['2019-04-25 16:34:29']\n",
      "[2]\n"
     ]
    },
    {
     "data": {
      "image/png": "[encoded data removed]",
      "text/plain": [
       "<Figure size 432x288 with 1 Axes>"
      ]
     },
     "metadata": {},
     "output_type": "display_data"
    },
    {
     "data": {
      "image/png": "[encoded data removed]",
      "text/plain": [
       "<Figure size 432x288 with 1 Axes>"
      ]
     },
     "metadata": {},
     "output_type": "display_data"
    }
   ],
   "source": [
    "# Visualization using Matplotlib\n",
    "\n",
    "\n",
    "#Visualize overall EDSA traffic at certain timestamp\n",
    "roadnum = range(0,len(list_of_names))\n",
    "plt.scatter(roadnum, list_of_southbound, label=\"SOUTHBOUND\", color=\"g\")\n",
    "plt.scatter(roadnum, list_of_northbound, label = \"NORTHBOUND\", color = \"m\")\n",
    "\n",
    "\n",
    "#plt.xticks(np.arange(min(x), max(x)+1, 1.0)) IDK HOW TO WORK THIS YET.\n",
    "#plt.yticks(np.arange(min(0), max(2)+1, 1.0))\n",
    "\n",
    "plt.xlabel(\"Road\")\n",
    "plt.ylabel(\"Volume\")\n",
    "\n",
    "plt.title(label=\"EDSA TRAFFIC: \"+timestamp)\n",
    "plt.legend(bbox_to_anchor=(0, 1), loc='lower center', ncol=1)\n",
    "plt.savefig(\"EDSA TRAFFIC: \"+timestamp+\".png\") #finally, save the figure\n",
    "\n",
    "#Visualize specific road parameters (TIMESTAMP vs VOLUME)--use animation.\n",
    "\n",
    "#new strategy: define a time interval in which you would like to harvest data. \n",
    "#after this period of time is over, go on and create the visualization of the data. in short, live\n",
    "#processing might be infeasible in this context\n",
    "\n",
    "#Pioneer-Boni. \n"
   ]
  },
  {
   "cell_type": "code",
   "execution_count": null,
   "metadata": {},
   "outputs": [],
   "source": []
  },
  {
   "cell_type": "code",
   "execution_count": null,
   "metadata": {},
   "outputs": [],
   "source": []
  },
  {
   "cell_type": "code",
   "execution_count": null,
   "metadata": {},
   "outputs": [],
   "source": []
  },
  {
   "cell_type": "code",
   "execution_count": null,
   "metadata": {},
   "outputs": [],
   "source": []
  }
 ],
 "metadata": {
  "kernelspec": {
   "display_name": "Python 3",
   "language": "python",
   "name": "python3"
  },
  "language_info": {
   "codemirror_mode": {
    "name": "ipython",
    "version": 3
   },
   "file_extension": ".py",
   "mimetype": "text/x-python",
   "name": "python",
   "nbconvert_exporter": "python",
   "pygments_lexer": "ipython3",
   "version": "3.7.3"
  }
 },
 "nbformat": 4,
 "nbformat_minor": 2
}
