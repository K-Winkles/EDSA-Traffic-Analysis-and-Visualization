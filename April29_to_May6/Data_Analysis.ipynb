{
 "cells": [
  {
   "cell_type": "markdown",
   "metadata": {},
   "source": [
    "## EDSA Traffic Data: Analysis\n",
    "\n",
    "After an extraction period of 7 days, sufficient data has been collected in order to start munging. Pre-processing will be executed in the following manner:\n",
    "1. Collate data from raw .csv files\n",
    "2. Separate aforementioned data into two 2-dimensional numpy arrays (southbound and northbound)\n",
    "3. Place data in such a way that it is arranged chronologically with respect to the individual lines\n",
    "4. Take the average for every 4 entries since this represents 1 hour \n",
    "The last step is necessary since visualization and line fitting is unhelpful when considering the entire scope of raw data. Breaking the data into several pieces and analysing each set is more conducive for meaningful story telling. As was explained in the previous notebook, polynomial regression is the tool of choice for this task. \n",
    "\n",
    "Note that during the 7-day timeframe of data extraction, there was a holiday in the middle of the week. To be more specific, it fell on a Wednesday. This factor will be taken into consideration when analyzing individual days. "
   ]
  },
  {
   "cell_type": "code",
   "execution_count": 9,
   "metadata": {},
   "outputs": [],
   "source": [
    "# Use this to analyze extracted data!\n",
    "%matplotlib notebook\n",
    "import pandas as pd\n",
    "import numpy as np\n",
    "import seaborn as sns\n",
    "from matplotlib import pyplot as plt\n",
    "\n",
    "# For Data parsing\n",
    "import os\n",
    "import re\n",
    "\n",
    "runs = 672 # (672/4)\n",
    "numlines = 37\n",
    "slashed_runs = runs/4\n",
    "list_size = numlines * runs"
   ]
  },
  {
   "cell_type": "code",
   "execution_count": 10,
   "metadata": {},
   "outputs": [
    {
     "name": "stdout",
     "output_type": "stream",
     "text": [
      "672\n"
     ]
    }
   ],
   "source": [
    "# save all data in numpy arrays\n",
    "directory = \"/Users/kianavillaera/MMDA_Traffic_data/EDSA-Traffic-Analysis-and-Visualization/April29_to_May6\"\n",
    "j = 0 # file number \n",
    "\n",
    "list_of_southbound = np.zeros(list_size).reshape(numlines,runs) \n",
    "list_of_northbound = np.zeros(list_size).reshape(numlines,runs)\n",
    "\n",
    "for filename in os.listdir(directory):\n",
    "    if filename.endswith(\".csv\"):\n",
    "        f = open(filename)\n",
    "        f_list = f.readlines()\n",
    "        i = 0\n",
    "        for row in f_list:\n",
    "            if len(row) == 41:\n",
    "                vol = re.findall(\"\\d\",row)\n",
    "                list_of_southbound[i][j] = vol[0]\n",
    "                list_of_northbound[i][j] = vol[1]\n",
    "                i += 1       \n",
    "        j +=1 \n",
    "f.close()        "
   ]
  },
  {
   "cell_type": "code",
   "execution_count": 15,
   "metadata": {},
   "outputs": [
    {
     "name": "stdout",
     "output_type": "stream",
     "text": [
      "[0. 0. 0. 1. 2. 0. 1. 0. 0. 1. 0. 1. 0. 0. 0. 0. 1. 0. 0. 2. 0. 0. 0. 0.\n",
      " 0. 0. 0. 1. 0. 1. 0. 0. 0. 0. 0. 0. 0. 0. 0. 0. 1. 0. 1. 0. 0. 0. 1. 0.\n",
      " 1. 0. 1. 0. 1. 0. 0. 0. 1. 0. 0. 0. 1. 0. 0. 0. 0. 1. 0. 0. 0. 1. 1. 0.\n",
      " 1. 0. 0. 0. 0. 0. 1. 1. 1. 0. 0. 0. 0. 0. 0. 0. 0. 0. 0. 1. 0. 0. 1. 0.\n",
      " 0. 0. 0. 0. 0. 1. 2. 1. 0. 0. 1. 0. 1. 1. 0. 1. 1. 0. 0. 2. 0. 0. 1. 0.\n",
      " 1. 1. 2. 0. 0. 2. 0. 1. 0. 1. 0. 0. 0. 0. 1. 1. 0. 0. 0. 0. 0. 0. 1. 0.\n",
      " 0. 0. 0. 0. 1. 1. 1. 0. 0. 1. 0. 0. 0. 0. 0. 0. 1. 1. 1. 0. 0. 0. 1. 0.\n",
      " 1. 1. 1. 0. 1. 0. 0. 1. 1. 1. 1. 0. 0. 0. 0. 1. 0. 0. 0. 0. 0. 0. 1. 0.\n",
      " 1. 0. 0. 1. 1. 0. 0. 0. 1. 0. 1. 0. 0. 0. 0. 0. 1. 0. 0. 0. 1. 1. 0. 0.\n",
      " 0. 0. 0. 1. 0. 1. 0. 0. 0. 0. 2. 0. 0. 1. 0. 0. 0. 0. 0. 0. 1. 1. 0. 0.\n",
      " 0. 0. 0. 0. 0. 1. 1. 0. 0. 0. 0. 0. 0. 0. 0. 0. 1. 0. 0. 0. 0. 0. 0. 2.\n",
      " 0. 0. 1. 0. 0. 2. 0. 1. 0. 0. 1. 1. 0. 1. 0. 1. 0. 1. 0. 1. 0. 0. 2. 0.\n",
      " 0. 0. 0. 0. 0. 0. 0. 0. 0. 0. 1. 0. 1. 1. 0. 0. 0. 0. 1. 0. 0. 0. 0. 1.\n",
      " 0. 0. 0. 0. 1. 0. 0. 0. 0. 2. 0. 0. 1. 1. 1. 0. 0. 0. 0. 0. 1. 0. 0. 0.\n",
      " 0. 0. 1. 0. 0. 0. 0. 0. 1. 1. 1. 0. 0. 0. 0. 0. 1. 0. 0. 1. 0. 0. 0. 1.\n",
      " 1. 0. 0. 0. 0. 1. 0. 0. 0. 0. 0. 1. 0. 0. 1. 1. 0. 0. 2. 2. 0. 1. 0. 1.\n",
      " 0. 0. 1. 1. 0. 2. 0. 1. 0. 1. 2. 0. 0. 0. 0. 0. 0. 1. 0. 1. 0. 1. 0. 0.\n",
      " 0. 1. 1. 0. 1. 0. 1. 0. 1. 0. 0. 0. 0. 0. 0. 1. 0. 0. 1. 0. 0. 0. 0. 0.\n",
      " 1. 0. 0. 0. 0. 0. 1. 0. 0. 0. 0. 0. 2. 0. 1. 0. 0. 0. 0. 1. 1. 0. 0. 0.\n",
      " 0. 0. 0. 0. 1. 0. 0. 0. 1. 1. 0. 1. 0. 0. 0. 0. 0. 1. 1. 0. 0. 0. 0. 0.\n",
      " 0. 0. 0. 0. 1. 1. 1. 0. 0. 0. 0. 1. 1. 0. 1. 0. 0. 0. 0. 0. 1. 0. 0. 1.\n",
      " 0. 0. 0. 0. 1. 0. 0. 0. 0. 0. 0. 1. 0. 0. 1. 1. 0. 0. 0. 0. 1. 1. 0. 1.\n",
      " 0. 0. 0. 0. 0. 1. 0. 0. 0. 0. 1. 1. 0. 0. 0. 0. 0. 0. 0. 0. 0. 0. 0. 0.\n",
      " 0. 0. 0. 0. 1. 0. 1. 0. 0. 0. 0. 1. 2. 2. 0. 1. 0. 0. 0. 0. 0. 0. 0. 0.\n",
      " 0. 0. 0. 1. 1. 0. 0. 0. 0. 0. 0. 0. 0. 0. 0. 0. 0. 0. 0. 0. 1. 0. 0. 0.\n",
      " 0. 0. 0. 0. 0. 0. 0. 0. 0. 0. 0. 0. 1. 0. 0. 1. 0. 1. 0. 0. 1. 0. 0. 0.\n",
      " 1. 0. 1. 0. 0. 0. 0. 1. 0. 0. 1. 0. 1. 1. 0. 0. 1. 0. 0. 0. 0. 0. 0. 0.\n",
      " 0. 0. 0. 1. 1. 0. 0. 1. 0. 0. 0. 0. 1. 0. 0. 0. 0. 0. 1. 1. 0. 0. 0. 0.]\n",
      "[0.25 0.75 0.5  0.   0.75 0.   0.25 0.25 0.   0.   0.5  0.25 0.5  0.25\n",
      " 0.25 0.25 0.25 0.5  0.25 0.5  0.25 0.   0.25 0.25 0.   1.   0.25 0.75\n",
      " 0.75 0.25 1.   0.75 0.25 0.5  0.   0.25 0.   0.75 0.25 0.   0.75 0.25\n",
      " 0.75 0.5  0.75 0.25 0.   0.25 0.5  0.25 0.5  0.   0.25 0.5  0.25 0.25\n",
      " 0.5  0.25 0.   0.5  0.   0.5  0.   0.   0.25 0.5  0.25 0.75 0.5  0.5\n",
      " 0.5  0.5  0.   0.   0.25 0.5  0.25 0.25 0.   0.25 0.5  0.75 0.   0.25\n",
      " 0.25 0.   0.75 0.   0.5  0.25 0.25 0.25 0.25 0.5  1.   0.5  0.5  0.75\n",
      " 0.75 0.   0.5  0.25 0.5  0.5  0.25 0.25 0.25 0.   0.25 0.25 0.   0.75\n",
      " 0.25 0.25 0.   0.25 0.75 0.   0.5  0.   0.   0.75 0.25 0.5  0.   0.5\n",
      " 0.   0.25 0.25 0.5  0.   0.75 0.   0.25 0.5  0.   0.   0.   0.   0.5\n",
      " 0.25 1.25 0.   0.   0.25 0.25 0.   0.   0.   0.25 0.   0.   0.   0.5\n",
      " 0.25 0.25 0.5  0.25 0.25 0.5  0.25 0.   0.25 0.5  0.   0.25 0.5  0.  ]\n"
     ]
    }
   ],
   "source": [
    "# Pre-process the data (take mean of every 4 entries)\n",
    "print(list_of_southbound[0])\n",
    "data_southbound = np.mean(list_of_southbound[0].reshape(-1, 4), axis=1)\n",
    "data_northbound = np.mean(list_of_northbound[0].reshape(-1, 4), axis=1)\n",
    "print(data_southbound)"
   ]
  },
  {
   "cell_type": "code",
   "execution_count": 13,
   "metadata": {},
   "outputs": [],
   "source": [
    "# Function for data analysis\n",
    "\n",
    "def analyze(data, runs, bound):\n",
    "    %matplotlib inline \n",
    "    x = range(0,target_runs)\n",
    "    x = np.array(x)\n",
    "    data = np.array(data)\n",
    "    \n",
    "    p1 = np.polyfit(x,data,1) #order 1\n",
    "    p2 = np.polyfit(x,data,2) #order 2\n",
    "    p3 = np.polyfit(x,data,3) #order 3\n",
    "    plt.style.use('seaborn-whitegrid')\n",
    "    \n",
    "    #plot data and linear fit\n",
    "    plt.plot(x,data,'o')\n",
    "    plt.plot(x,np.polyval(p1,x),'r-')\n",
    "    plt.plot(x,np.polyval(p2,x),'g--')\n",
    "    plt.plot(x,np.polyval(p3,x),'y:') \n",
    "    plt.savefig(\"Polynomial regression of \"+ bound +\" traffic data.png\")\n",
    "    plt.xlabel(\"Road\")\n",
    "    plt.ylabel(\"Volume\")\n",
    "    plt.show()\n",
    "    \n",
    "   # print(\"Slope and intercepts in ascending orders \")\n",
    "    print(p1)\n",
    "    print(p2)\n",
    "    print(p3)"
   ]
  },
  {
   "cell_type": "code",
   "execution_count": 14,
   "metadata": {},
   "outputs": [
    {
     "data": {
      "image/png": "[encoded data removed]",
      "text/plain": [
       "<Figure size 432x288 with 1 Axes>"
      ]
     },
     "metadata": {},
     "output_type": "display_data"
    },
    {
     "name": "stdout",
     "output_type": "stream",
     "text": [
      "[-0.00083076  0.37889194]\n",
      "[-1.07528084e-05  9.64962930e-04  3.29210382e-01]\n",
      "[ 8.25085149e-08 -3.14211914e-05  2.34149374e-03  3.10340149e-01]\n"
     ]
    },
    {
     "data": {
      "image/png": "[encoded data removed]",
      "text/plain": [
       "<Figure size 432x288 with 1 Axes>"
      ]
     },
     "metadata": {},
     "output_type": "display_data"
    }
   ],
   "source": [
    "# Loop through both arrays\n",
    "data = data_southbound\n",
    "analyze(data, slashed_runs, \"South\")"
   ]
  },
  {
   "cell_type": "markdown",
   "metadata": {},
   "source": []
  },
  {
   "cell_type": "code",
   "execution_count": null,
   "metadata": {},
   "outputs": [],
   "source": []
  }
 ],
 "metadata": {
  "kernelspec": {
   "display_name": "Python 3",
   "language": "python",
   "name": "python3"
  },
  "language_info": {
   "codemirror_mode": {
    "name": "ipython",
    "version": 3
   },
   "file_extension": ".py",
   "mimetype": "text/x-python",
   "name": "python",
   "nbconvert_exporter": "python",
   "pygments_lexer": "ipython3",
   "version": "3.7.3"
  }
 },
 "nbformat": 4,
 "nbformat_minor": 2
}
